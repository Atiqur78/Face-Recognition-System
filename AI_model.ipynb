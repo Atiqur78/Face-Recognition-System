{
 "cells": [
  {
   "cell_type": "code",
   "execution_count": 1,
   "metadata": {},
   "outputs": [],
   "source": [
    "import urllib.request"
   ]
  },
  {
   "cell_type": "code",
   "execution_count": 2,
   "metadata": {},
   "outputs": [
    {
     "name": "stdout",
     "output_type": "stream",
     "text": [
      "b'{\"statusCode\": 200, \"body\": \"\\\\\"User Unlocked!\\\\\"\"}'\n"
     ]
    }
   ],
   "source": [
    "#AI model\n",
    "import urllib.request\n",
    "request_url = urllib.request.urlopen(\"https://6qct366eze.execute-api.ap-south-1.amazonaws.com/test/unlock\")\n",
    "\n",
    "print( request_url.read())"
   ]
  },
  {
   "cell_type": "code",
   "execution_count": 3,
   "metadata": {},
   "outputs": [
    {
     "name": "stdout",
     "output_type": "stream",
     "text": [
      "b'{\"statusCode\": 200, \"body\": \"\\\\\"User Locked!\\\\\"\"}'\n"
     ]
    }
   ],
   "source": [
    "#AI model\n",
    "import urllib.request\n",
    "request_url = urllib.request.urlopen(\"https://6qct366eze.execute-api.ap-south-1.amazonaws.com/test/lock\")\n",
    "\n",
    "print( request_url.read())"
   ]
  },
  {
   "cell_type": "code",
   "execution_count": 4,
   "metadata": {},
   "outputs": [
    {
     "name": "stdout",
     "output_type": "stream",
     "text": [
      "b'{\"statusCode\": 200, \"body\": \"\\\\\"Removed Docker Container!\\\\\"\"}'\n"
     ]
    }
   ],
   "source": [
    "#AI model\n",
    "import urllib.request\n",
    "request_url = urllib.request.urlopen(\"https://6qct366eze.execute-api.ap-south-1.amazonaws.com/test/dockerrm\")\n",
    "\n",
    "print( request_url.read())"
   ]
  }
 ],
 "metadata": {
  "kernelspec": {
   "display_name": "Python 3 (ipykernel)",
   "language": "python",
   "name": "python3"
  },
  "language_info": {
   "codemirror_mode": {
    "name": "ipython",
    "version": 3
   },
   "file_extension": ".py",
   "mimetype": "text/x-python",
   "name": "python",
   "nbconvert_exporter": "python",
   "pygments_lexer": "ipython3",
   "version": "3.11.4"
  }
 },
 "nbformat": 4,
 "nbformat_minor": 2
}
